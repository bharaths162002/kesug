{
 "cells": [
  {
   "cell_type": "code",
   "execution_count": null,
   "metadata": {},
   "outputs": [],
   "source": [
    "\"\"\"\n",
    " Q1 What is Python?\n",
    " Soln. Python is an high level, object oriented, dynamic programming language. It supports procedural, object-oriented and functional programming.\n",
    " \"\"\"\n",
    "\n"
   ]
  },
  {
   "cell_type": "markdown",
   "metadata": {},
   "source": [
    "\n",
    "Q2. What does the print() function do in Python?\n"
   ]
  },
  {
   "cell_type": "markdown",
   "metadata": {},
   "source": [
    "Solun. print() is a built in function, it is used to  send a specified message to the screen. The output can be a number,text or result of calculation.\n"
   ]
  },
  {
   "cell_type": "markdown",
   "metadata": {},
   "source": [
    "Q3. What is the purpose of comments in python programming language?\n"
   ]
  },
  {
   "cell_type": "markdown",
   "metadata": {},
   "source": [
    "Solun. They are annotations to code used to make it easier to understand. They dont't affect how code is run. Comments are denoted by symbol '#'."
   ]
  },
  {
   "cell_type": "markdown",
   "metadata": {},
   "source": [
    "Q4. Provide an example of a syntax error & semantic error in Python and explain why it is an error ?\n"
   ]
  },
  {
   "cell_type": "markdown",
   "metadata": {},
   "source": [
    "Solun. A SyntaxError in Python occurs when the interpreter encounters code that does not conform to the language's syntax  rules.\n",
    "Example: 1st_variable = 5  # SyntaxError: invalid syntax\n",
    "Example: def example_function():\n",
    "         print(\"This will cause a syntax error\")  # IndentationError\n",
    "\n",
    "Semantic Error: A semantic error in Python occurs when the code is syntactically correct but produces unintended or incorrect results during execution.\n",
    "Example:a = \"10\"\n",
    "        b = 5\n",
    "        total = a + b  # This will throw a type error"
   ]
  },
  {
   "cell_type": "markdown",
   "metadata": {},
   "source": [
    "Q5. What does case sensitivity mean in Python?\n"
   ]
  },
  {
   "cell_type": "markdown",
   "metadata": {},
   "source": [
    "Solun. Python is a case-sensitive programming language, meaning it distinguishes between uppercase and lowercase letters in identifiers such as variable names, function names, and keywords."
   ]
  },
  {
   "cell_type": "markdown",
   "metadata": {},
   "source": [
    "Q6.Provide an example to illustrate how case sensitivity affects variable names in Python.\n"
   ]
  },
  {
   "cell_type": "code",
   "execution_count": 3,
   "metadata": {},
   "outputs": [
    {
     "name": "stdout",
     "output_type": "stream",
     "text": [
      "30\n",
      "70\n"
     ]
    }
   ],
   "source": [
    "a=10\n",
    "b=20\n",
    "A=50\n",
    "print(a+b)\n",
    "print(A+b)"
   ]
  },
  {
   "cell_type": "markdown",
   "metadata": {},
   "source": [
    "\n"
   ]
  },
  {
   "cell_type": "markdown",
   "metadata": {},
   "source": [
    "Q7. What is the recommended naming convention for variables in Python?\n"
   ]
  },
  {
   "cell_type": "markdown",
   "metadata": {},
   "source": [
    "Solun. Variable names must begin with a letter (a-z, A-Z) or an underscore '_'. They cannot start with a number.\n",
    "        Use lowercase letters with words separated by underscores.\n",
    "Example: my_variable, total_sum, user_name.\n",
    "Example for Camel case: myVariable, totalSum, userName.\n",
    "Example for Pascal case: MyVariable, TotalSum, UserName."
   ]
  },
  {
   "cell_type": "markdown",
   "metadata": {},
   "source": [
    "Q8.What is the purpose of indentation in Python?\n"
   ]
  },
  {
   "cell_type": "markdown",
   "metadata": {},
   "source": [
    "Solun. In Python, indentation is used to define blocks of code, such as those within loops, conditionals, functions, and classes. Unlike many programming languages that use braces {} to denote code blocks.Proper indentation helps the interpreter understand which statements belong to which block."
   ]
  },
  {
   "cell_type": "markdown",
   "metadata": {},
   "source": [
    "Q9.What is the current stable version of Python as of September 2024?\n"
   ]
  },
  {
   "cell_type": "markdown",
   "metadata": {},
   "source": [
    "Solun. 3.12.6"
   ]
  },
  {
   "cell_type": "markdown",
   "metadata": {},
   "source": [
    "Q10.What are the basic data types in Python? Provide examples for each?\n"
   ]
  },
  {
   "cell_type": "markdown",
   "metadata": {},
   "source": [
    "Solun. 1. Integer- Whole numbers, can be positive or negative.\n",
    "            Ex: a=100 \n",
    "                b=-25\n",
    "\n",
    "       2. Float- Floating-point numbers (decimal values).\n",
    "            Ex: x=3.142\n",
    "\n",
    "       3. String- A sequence of characters enclosed in quotes.\n",
    "            Ex- \"This is a string\"\n",
    "\n",
    "       4. Boolean- it indicates True or False."
   ]
  }
 ],
 "metadata": {
  "kernelspec": {
   "display_name": "Python 3",
   "language": "python",
   "name": "python3"
  },
  "language_info": {
   "codemirror_mode": {
    "name": "ipython",
    "version": 3
   },
   "file_extension": ".py",
   "mimetype": "text/x-python",
   "name": "python",
   "nbconvert_exporter": "python",
   "pygments_lexer": "ipython3",
   "version": "3.12.4"
  }
 },
 "nbformat": 4,
 "nbformat_minor": 2
}
