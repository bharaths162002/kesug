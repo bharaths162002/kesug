{
 "cells": [
  {
   "cell_type": "markdown",
   "metadata": {},
   "source": [
    "Q1: What does the `filter` function do in Python? Provide an example.\n",
    "Filter even numbers from a list?\n"
   ]
  },
  {
   "cell_type": "markdown",
   "metadata": {},
   "source": [
    " filter function is used to filter elements from an iterables based on function that returns True or False"
   ]
  },
  {
   "cell_type": "code",
   "execution_count": 1,
   "metadata": {},
   "outputs": [
    {
     "data": {
      "text/plain": [
       "[0, 2, 4, 6, 8, 10]"
      ]
     },
     "execution_count": 1,
     "metadata": {},
     "output_type": "execute_result"
    }
   ],
   "source": [
    "num=range(11)\n",
    "filtered=list(filter(lambda x: x%2==0,num))\n",
    "filtered"
   ]
  },
  {
   "cell_type": "markdown",
   "metadata": {},
   "source": [
    "Q2: How can you use `map` to square all the numbers in a list? Show an example."
   ]
  },
  {
   "cell_type": "code",
   "execution_count": 6,
   "metadata": {},
   "outputs": [
    {
     "data": {
      "text/plain": [
       "[0, 1, 4, 9, 16, 25, 36, 49, 64, 81, 100]"
      ]
     },
     "execution_count": 6,
     "metadata": {},
     "output_type": "execute_result"
    }
   ],
   "source": [
    "num=range(11)\n",
    "sq=list(map(lambda x: x**2,num))\n",
    "sq"
   ]
  },
  {
   "cell_type": "markdown",
   "metadata": {},
   "source": [
    "Q3: What is the purpose of `reduce`, and how is it different from `map` and `filter`? Provide an example."
   ]
  },
  {
   "cell_type": "markdown",
   "metadata": {},
   "source": [
    "reduce() function applies rolling computation to a sequential pairs of values in an iterable. It is not builtin it should be imported from function tools module.\n",
    "\n",
    "filter()- used to filter elements from an iterable based on a condition.\n",
    "\n",
    "map()- used to apply a transformation to each element of an iterable.\n",
    "\n",
    "reduce()- used to accumulate or reduce the elements of an iterable to a single value."
   ]
  },
  {
   "cell_type": "code",
   "execution_count": 7,
   "metadata": {},
   "outputs": [
    {
     "data": {
      "text/plain": [
       "120"
      ]
     },
     "execution_count": 7,
     "metadata": {},
     "output_type": "execute_result"
    }
   ],
   "source": [
    "from functools import reduce\n",
    "numbers=[1,2,3,4,5]\n",
    "prod=reduce(lambda x,y :x*y,numbers)\n",
    "prod"
   ]
  },
  {
   "cell_type": "markdown",
   "metadata": {},
   "source": [
    "Q4: How would you use `filter` to get all names that start with the letter 'A' from a list?"
   ]
  },
  {
   "cell_type": "code",
   "execution_count": 13,
   "metadata": {},
   "outputs": [
    {
     "data": {
      "text/plain": [
       "['Aeroplane', 'Asia', 'Apple']"
      ]
     },
     "execution_count": 13,
     "metadata": {},
     "output_type": "execute_result"
    }
   ],
   "source": [
    "names=['Aeroplane','australia','Russia','Maldives','Asia','Apple']\n",
    "fil=list(filter(lambda  name: name[0]=='A',names))\n",
    "fil"
   ]
  },
  {
   "cell_type": "markdown",
   "metadata": {},
   "source": [
    "Q5: Demonstrate how to combine `map` and `filter` in a single operation to first filter out odd numbers and then square the even numbers."
   ]
  },
  {
   "cell_type": "code",
   "execution_count": 21,
   "metadata": {},
   "outputs": [
    {
     "data": {
      "text/plain": [
       "[4, 16, 36, 64, 100]"
      ]
     },
     "execution_count": 21,
     "metadata": {},
     "output_type": "execute_result"
    }
   ],
   "source": [
    "numbers=[1,2,3,4,5,6,7,8,9,10]\n",
    "result=list(map(lambda y: y**2, filter(lambda y: y%2==0, numbers)))\n",
    "result"
   ]
  },
  {
   "cell_type": "markdown",
   "metadata": {},
   "source": [
    "Q6: Write a function that uses `reduce` to find the maximum number in a list."
   ]
  },
  {
   "cell_type": "code",
   "execution_count": null,
   "metadata": {},
   "outputs": [
    {
     "name": "stdout",
     "output_type": "stream",
     "text": [
      "10000\n"
     ]
    }
   ],
   "source": [
    "from functools import reduce\n",
    "def find_max(lst):\n",
    "    return reduce(lambda a,b: a if a>b else b,lst)\n",
    "numbers=[15,70,-467,0.890,10000]\n",
    "print(find_max(numbers))"
   ]
  },
  {
   "cell_type": "markdown",
   "metadata": {},
   "source": [
    "Q7: Create a list of lengths of each word in a given list using `map`."
   ]
  },
  {
   "cell_type": "code",
   "execution_count": 2,
   "metadata": {},
   "outputs": [
    {
     "name": "stdout",
     "output_type": "stream",
     "text": [
      "[9, 5, 6, 4]\n"
     ]
    }
   ],
   "source": [
    "words=['microsoft','apple','google','zoho']\n",
    "word_len=list(map(lambda x: len(x), words))\n",
    "print(word_len)"
   ]
  },
  {
   "cell_type": "markdown",
   "metadata": {},
   "source": [
    "Q8: How can you use `filter` to remove all negative numbers from a list?"
   ]
  },
  {
   "cell_type": "code",
   "execution_count": 4,
   "metadata": {},
   "outputs": [
    {
     "data": {
      "text/plain": [
       "[-67, -0.786, -80]"
      ]
     },
     "execution_count": 4,
     "metadata": {},
     "output_type": "execute_result"
    }
   ],
   "source": [
    "negative=[10,-67,78,-0.786,150,-80,55]\n",
    "fil_negative=list(filter(lambda x: x<0, negative))\n",
    "fil_negative"
   ]
  },
  {
   "cell_type": "markdown",
   "metadata": {},
   "source": [
    "Q9: Explain the significance of using `functools.reduce` instead of a simple loop to compute"
   ]
  },
  {
   "cell_type": "markdown",
   "metadata": {},
   "source": [
    "In python functools.reduce is a powerful tool for performing cumulative operations on elements within an iterable. It takes a function and an iterable as input."
   ]
  },
  {
   "cell_type": "markdown",
   "metadata": {},
   "source": []
  }
 ],
 "metadata": {
  "kernelspec": {
   "display_name": "Python 3",
   "language": "python",
   "name": "python3"
  },
  "language_info": {
   "codemirror_mode": {
    "name": "ipython",
    "version": 3
   },
   "file_extension": ".py",
   "mimetype": "text/x-python",
   "name": "python",
   "nbconvert_exporter": "python",
   "pygments_lexer": "ipython3",
   "version": "3.12.4"
  }
 },
 "nbformat": 4,
 "nbformat_minor": 2
}
