{
 "cells": [
  {
   "cell_type": "markdown",
   "metadata": {},
   "source": [
    "Q1: How do you open a file for reading in Python? Provide a code example."
   ]
  },
  {
   "cell_type": "code",
   "execution_count": 3,
   "metadata": {},
   "outputs": [
    {
     "name": "stdout",
     "output_type": "stream",
     "text": [
      "The Marvel Cinematic Universe (MCU) is an American media franchise and shared universe centered on a series of superhero films produced by Marvel Studios.\n",
      "The films are based on characters that appear in American comic books published by Marvel Comics.\n"
     ]
    }
   ],
   "source": [
    "# Example: Open a file for reading\n",
    "with open('example.txt', 'r') as file:\n",
    "    content = file.read()\n",
    "print(content)\n"
   ]
  },
  {
   "cell_type": "markdown",
   "metadata": {},
   "source": [
    "Q2: What is the difference between `read()`, `readline()`, and `readlines()` methods?"
   ]
  },
  {
   "cell_type": "markdown",
   "metadata": {},
   "source": [
    "- `read()`: Reads the entire file as a single string.\n",
    "- `readline()`: Reads the file line by line, returning the next line each time it’s called.\n",
    "- `readlines()`: Reads all lines into a list, where each line is an element of the list.\n"
   ]
  },
  {
   "cell_type": "code",
   "execution_count": 5,
   "metadata": {},
   "outputs": [
    {
     "name": "stdout",
     "output_type": "stream",
     "text": [
      "The Marvel Cinematic Universe (MCU) is an American media franchise and shared universe centered on a series of superhero films produced by Marvel Studios,\n",
      "The films are based on characters that appear in American comic books published by Marvel Comics.\n",
      "\n",
      "[]\n"
     ]
    }
   ],
   "source": [
    "with open('example.txt', 'r') as file:\n",
    "    print(file.read())       # Reads the entire file\n",
    "    print(file.readline())    # Reads the first line\n",
    "    print(file.readlines())   # Reads all lines into a list\n"
   ]
  },
  {
   "cell_type": "markdown",
   "metadata": {},
   "source": [
    "Q3: How do you write to a file in Python? Provide an example of writing multiple lines."
   ]
  },
  {
   "cell_type": "markdown",
   "metadata": {},
   "source": [
    "You can write to a file using the `open()` function with the mode `'w'` or `'a'`. \n",
    "\n",
    " Example: Writing multiple lines to a file"
   ]
  },
  {
   "cell_type": "code",
   "execution_count": 6,
   "metadata": {},
   "outputs": [],
   "source": [
    "with open('output.txt', 'w') as file:\n",
    "    file.write(\"First line.\\n\")\n",
    "    file.write(\"Second line.\\n\")\n",
    "    file.write(\"Third line.\\n\")\n"
   ]
  },
  {
   "cell_type": "markdown",
   "metadata": {},
   "source": [
    "Q4: Explain how to append text to an existing file. Provide a code example."
   ]
  },
  {
   "cell_type": "markdown",
   "metadata": {},
   "source": [
    "You can append text to a file using the mode `'a'`. "
   ]
  },
  {
   "cell_type": "code",
   "execution_count": 7,
   "metadata": {},
   "outputs": [],
   "source": [
    "# Example: Appending text to a file\n",
    "with open('output.txt', 'a') as file:\n",
    "    file.write(\"This is an appended line.\\n\")\n"
   ]
  },
  {
   "cell_type": "markdown",
   "metadata": {},
   "source": [
    "Q5: How can you read a file and print each line with its line number?"
   ]
  },
  {
   "cell_type": "markdown",
   "metadata": {},
   "source": [
    " You can use a loop with `enumerate()` to read and print lines with their line numbers. Example:"
   ]
  },
  {
   "cell_type": "code",
   "execution_count": 8,
   "metadata": {},
   "outputs": [
    {
     "name": "stdout",
     "output_type": "stream",
     "text": [
      "1: The Marvel Cinematic Universe (MCU) is an American media franchise and shared universe centered on a series of superhero films produced by Marvel Studios,\n",
      "2: The films are based on characters that appear in American comic books published by Marvel Comics.\n"
     ]
    }
   ],
   "source": [
    "with open('example.txt', 'r') as file:\n",
    "    for line_number, line in enumerate(file, start=1):\n",
    "        print(f\"{line_number}: {line.strip()}\")\n"
   ]
  },
  {
   "cell_type": "markdown",
   "metadata": {},
   "source": [
    "Q6: What is a context manager, and how is it used in file handling?"
   ]
  },
  {
   "cell_type": "markdown",
   "metadata": {},
   "source": [
    "A context manager is a way to allocate and release resources precisely using the `with` statement. It ensures that a file is properly closed after its suite finishes, even if an exception is raised. Example:"
   ]
  },
  {
   "cell_type": "code",
   "execution_count": 9,
   "metadata": {},
   "outputs": [],
   "source": [
    "with open('example.txt', 'r') as file:\n",
    "    content = file.read()\n",
    "# File is automatically closed here.\n"
   ]
  },
  {
   "cell_type": "markdown",
   "metadata": {},
   "source": [
    "Q7: How do you check if a file exists before trying to read it?"
   ]
  },
  {
   "cell_type": "markdown",
   "metadata": {},
   "source": [
    " You can use the `os.path.exists()` function to check if a file exists. Example:"
   ]
  },
  {
   "cell_type": "code",
   "execution_count": 12,
   "metadata": {},
   "outputs": [
    {
     "name": "stdout",
     "output_type": "stream",
     "text": [
      "File example.txt Exists\n"
     ]
    }
   ],
   "source": [
    "import os\n",
    "file_path = 'example.txt'\n",
    "if os.path.exists(file_path):\n",
    "    with open(file_path, 'r') as file:\n",
    "        content = file.read()\n",
    "        print(f\"File {file_path} Exists\")\n",
    "else:\n",
    "    print(\"File does not exist.\")\n"
   ]
  },
  {
   "cell_type": "markdown",
   "metadata": {},
   "source": [
    "Q8: How can you read a file in binary mode?"
   ]
  },
  {
   "cell_type": "markdown",
   "metadata": {},
   "source": [
    "You can open a file in binary mode by using the mode `'rb'`. Example:\n",
    " Example: Reading a file in binary mode\n"
   ]
  },
  {
   "cell_type": "code",
   "execution_count": 14,
   "metadata": {},
   "outputs": [
    {
     "name": "stdout",
     "output_type": "stream",
     "text": [
      "b'011110\\r\\n1010101010101\\r\\n000111000111000111\\r\\n100100100100100100\\r\\n000000100000000010'\n"
     ]
    }
   ],
   "source": [
    "with open('example_2.bin', 'rb') as file:\n",
    "    binary_content = file.read()\n",
    "print(binary_content)\n"
   ]
  },
  {
   "cell_type": "markdown",
   "metadata": {},
   "source": [
    "Q9: Write a code snippet to count the number of words in a file."
   ]
  },
  {
   "cell_type": "markdown",
   "metadata": {},
   "source": [
    "You can read the file and split the content into words. Example:"
   ]
  },
  {
   "cell_type": "code",
   "execution_count": 16,
   "metadata": {},
   "outputs": [
    {
     "name": "stdout",
     "output_type": "stream",
     "text": [
      "['The', 'Marvel', 'Cinematic', 'Universe', '(MCU)', 'is', 'an', 'American', 'media', 'franchise', 'and', 'shared', 'universe', 'centered', 'on', 'a', 'series', 'of', 'superhero', 'films', 'produced', 'by', 'Marvel', 'Studios,', 'The', 'films', 'are', 'based', 'on', 'characters', 'that', 'appear', 'in', 'American', 'comic', 'books', 'published', 'by', 'Marvel', 'Comics.']\n",
      "Number of words: 40\n"
     ]
    }
   ],
   "source": [
    "with open('example.txt', 'r') as file:\n",
    "    content = file.read()\n",
    "    words = content.split()\n",
    "    word_count = len(words)\n",
    "print(words)\n",
    "print(f\"Number of words: {word_count}\")\n",
    "\n"
   ]
  },
  {
   "cell_type": "markdown",
   "metadata": {},
   "source": [
    "10: How do you create a new file and write a list of strings to it, one string per line?"
   ]
  },
  {
   "cell_type": "markdown",
   "metadata": {},
   "source": [
    "You can iterate over the list and write each string to the file. Example:"
   ]
  },
  {
   "cell_type": "code",
   "execution_count": 17,
   "metadata": {},
   "outputs": [],
   "source": [
    "lines = [\"First line\", \"Second line\", \"Third line\"]\n",
    "\n",
    "with open('newfile.txt', 'w') as file:\n",
    "    for line in lines:\n",
    "        file.write(line + '\\n')\n"
   ]
  },
  {
   "cell_type": "code",
   "execution_count": null,
   "metadata": {},
   "outputs": [],
   "source": []
  }
 ],
 "metadata": {
  "kernelspec": {
   "display_name": "Python 3",
   "language": "python",
   "name": "python3"
  },
  "language_info": {
   "codemirror_mode": {
    "name": "ipython",
    "version": 3
   },
   "file_extension": ".py",
   "mimetype": "text/x-python",
   "name": "python",
   "nbconvert_exporter": "python",
   "pygments_lexer": "ipython3",
   "version": "3.12.4"
  }
 },
 "nbformat": 4,
 "nbformat_minor": 2
}
