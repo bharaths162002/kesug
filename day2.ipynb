{
 "cells": [
  {
   "cell_type": "markdown",
   "metadata": {},
   "source": [
    "Q1. What is the difference between = and == in Python?"
   ]
  },
  {
   "cell_type": "markdown",
   "metadata": {},
   "source": [
    "= is an assignment operator it is used to assign data to variable. Ex x=8.\n",
    "== is an comparison operator used to compare two values.\n",
    "Ex: i=5\n",
    "    j=7\n",
    "    print(i==j)  #False"
   ]
  },
  {
   "cell_type": "markdown",
   "metadata": {},
   "source": [
    "Q2. How does the not operator work with boolean values?"
   ]
  },
  {
   "cell_type": "markdown",
   "metadata": {},
   "source": [
    "not takes just one argument and inverts it. The result of not True is False and not False goes to true.\n",
    "Ex: print(not 1==1) #False\n",
    "    print(not 1>7)  #True"
   ]
  },
  {
   "cell_type": "markdown",
   "metadata": {},
   "source": [
    "Q3. Can you give an example of using the & bitwise operator?"
   ]
  },
  {
   "cell_type": "code",
   "execution_count": 4,
   "metadata": {},
   "outputs": [
    {
     "name": "stdout",
     "output_type": "stream",
     "text": [
      "a: 6\n",
      "b: 5\n",
      "a & b: 4\n",
      "Binary of a: 0b110\n",
      "Binary of b: 0b101\n"
     ]
    }
   ],
   "source": [
    "\n",
    "a = 6  \n",
    "b = 5  \n",
    "\n",
    "result = a & b\n",
    "\n",
    "print(\"a:\", a)          \n",
    "print(\"b:\", b)          \n",
    "print(\"a & b:\", result) \n",
    "\n",
    "print(\"Binary of a:\", bin(a)) \n",
    "print(\"Binary of b:\", bin(b)) "
   ]
  },
  {
   "cell_type": "markdown",
   "metadata": {},
   "source": [
    "Q4. How do you use the or logical operator in a condition?"
   ]
  },
  {
   "cell_type": "code",
   "execution_count": 5,
   "metadata": {},
   "outputs": [
    {
     "name": "stdout",
     "output_type": "stream",
     "text": [
      "At least one condition is true.\n"
     ]
    }
   ],
   "source": [
    "x = 10\n",
    "y = 5\n",
    "\n",
    "if x > 15 or y < 10:\n",
    "    print(\"At least one condition is true.\")\n",
    "else:\n",
    "    print(\"Both conditions are false.\")"
   ]
  },
  {
   "cell_type": "markdown",
   "metadata": {},
   "source": [
    "Q5. How do you use the is operator in Python?"
   ]
  },
  {
   "cell_type": "code",
   "execution_count": 7,
   "metadata": {},
   "outputs": [
    {
     "name": "stdout",
     "output_type": "stream",
     "text": [
      "False\n"
     ]
    }
   ],
   "source": [
    "a = \"engineering\"\n",
    "b = \"medical\"\n",
    "\n",
    "print(a is b) "
   ]
  },
  {
   "cell_type": "markdown",
   "metadata": {},
   "source": [
    "Q6. What is the difference between is and == when comparing two strings in Python?"
   ]
  },
  {
   "cell_type": "markdown",
   "metadata": {},
   "source": [
    "is Operator: Checks if two variables point to the same object in memory. It evaluates to True only if both operands refer to the exact same object.\n",
    "== Operator: Checks if the values of two variables are equal. It evaluates to True if the content of the strings is the same, regardless of whether they are the same object in memory."
   ]
  },
  {
   "cell_type": "code",
   "execution_count": 15,
   "metadata": {},
   "outputs": [
    {
     "name": "stdout",
     "output_type": "stream",
     "text": [
      "False\n"
     ]
    }
   ],
   "source": [
    "a='cse'\n",
    "b='ise'\n",
    "print(a is b)"
   ]
  },
  {
   "cell_type": "code",
   "execution_count": 17,
   "metadata": {},
   "outputs": [
    {
     "name": "stdout",
     "output_type": "stream",
     "text": [
      "True\n"
     ]
    }
   ],
   "source": [
    "x='Reenu'\n",
    "y='Reenu'\n",
    "print(x==y)"
   ]
  },
  {
   "cell_type": "markdown",
   "metadata": {},
   "source": []
  },
  {
   "cell_type": "markdown",
   "metadata": {},
   "source": [
    "Q7. Can you give an example of how the not in membership operator works?"
   ]
  },
  {
   "cell_type": "code",
   "execution_count": 19,
   "metadata": {},
   "outputs": [
    {
     "name": "stdout",
     "output_type": "stream",
     "text": [
      "True\n",
      "False\n"
     ]
    }
   ],
   "source": [
    "\n",
    "fruits = [\"apple\", \"banana\", \"cherry\"]\n",
    "\n",
    "print(\"orange\" not in fruits) \n",
    "print(\"banana\" not in fruits)   "
   ]
  },
  {
   "cell_type": "markdown",
   "metadata": {},
   "source": [
    "Q8. How do you use the >= (greater than or equal to) comparison operator?"
   ]
  },
  {
   "cell_type": "code",
   "execution_count": 20,
   "metadata": {},
   "outputs": [
    {
     "name": "stdout",
     "output_type": "stream",
     "text": [
      "num2 is greater\n"
     ]
    }
   ],
   "source": [
    "num1=500\n",
    "num2=1000\n",
    "if num1>=num2:\n",
    "    print('num1 is greater')\n",
    "else:\n",
    "    print('num2 is greater')"
   ]
  },
  {
   "cell_type": "markdown",
   "metadata": {},
   "source": [
    "Q9. Can you show how to use the in membership operator?"
   ]
  },
  {
   "cell_type": "code",
   "execution_count": 23,
   "metadata": {},
   "outputs": [
    {
     "name": "stdout",
     "output_type": "stream",
     "text": [
      "True\n",
      "False\n"
     ]
    }
   ],
   "source": [
    "\n",
    "fruits = [\"apple\", \"banana\", \"cherry\"]\n",
    "\n",
    "print(\"banana\" in fruits)  \n",
    "print(\"orange\" in fruits)  "
   ]
  },
  {
   "cell_type": "code",
   "execution_count": null,
   "metadata": {},
   "outputs": [],
   "source": []
  }
 ],
 "metadata": {
  "kernelspec": {
   "display_name": "Python 3",
   "language": "python",
   "name": "python3"
  },
  "language_info": {
   "codemirror_mode": {
    "name": "ipython",
    "version": 3
   },
   "file_extension": ".py",
   "mimetype": "text/x-python",
   "name": "python",
   "nbconvert_exporter": "python",
   "pygments_lexer": "ipython3",
   "version": "3.12.4"
  }
 },
 "nbformat": 4,
 "nbformat_minor": 2
}
