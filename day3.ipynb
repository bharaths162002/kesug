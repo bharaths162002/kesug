{
 "cells": [
  {
   "cell_type": "markdown",
   "metadata": {},
   "source": [
    "Q1. What are Data Structures in Python?"
   ]
  },
  {
   "cell_type": "markdown",
   "metadata": {},
   "source": [
    "Data structures in Python are specialized formats for organizing, managing, and storing data. They are essential for efficient data manipulation and retrieval in programming. "
   ]
  },
  {
   "cell_type": "markdown",
   "metadata": {},
   "source": [
    "Ex: LIST=[1,2,3,'CSE','ISE']\n",
    "    TUPLE=('ford','BMW','AUDI')\n",
    "    DICTIONARY={'ENGG':'MECH','science':'biology'}\n",
    "    SETS={11,55,100}"
   ]
  },
  {
   "cell_type": "markdown",
   "metadata": {},
   "source": [
    "Q2. Define a List in Python and provide an example of how to use it."
   ]
  },
  {
   "cell_type": "markdown",
   "metadata": {},
   "source": [
    "An ordered collection of items that can hold elements of various data types, including other lists."
   ]
  },
  {
   "cell_type": "code",
   "execution_count": 2,
   "metadata": {},
   "outputs": [
    {
     "name": "stdout",
     "output_type": "stream",
     "text": [
      "[11, 25, 33, 44, 55, 66]\n"
     ]
    }
   ],
   "source": [
    "list=[11,22,33,44,55]\n",
    "list.append(66)\n",
    "list[1]=25\n",
    "print(list)"
   ]
  },
  {
   "cell_type": "markdown",
   "metadata": {},
   "source": [
    "Q3. What is a Tuple in Python and how is it different from a List? Provide an example."
   ]
  },
  {
   "cell_type": "markdown",
   "metadata": {},
   "source": [
    "A tuple in Python is an immutable, ordered collection of items. It is one of the built-in data types used to store multiple values in a single variable. Tuples can hold elements of different data types, including other tuples, and they are defined by enclosing the items in parentheses.\n",
    "Tuples: Often used for fixed collections of items or when you want to ensure that data remains constant.\n",
    "Lists: Used when you need a dynamic collection that may change over time."
   ]
  },
  {
   "cell_type": "code",
   "execution_count": 5,
   "metadata": {},
   "outputs": [
    {
     "name": "stdout",
     "output_type": "stream",
     "text": [
      "[4, 2, 3]\n"
     ]
    },
    {
     "ename": "TypeError",
     "evalue": "'tuple' object does not support item assignment",
     "output_type": "error",
     "traceback": [
      "\u001b[1;31m---------------------------------------------------------------------------\u001b[0m",
      "\u001b[1;31mTypeError\u001b[0m                                 Traceback (most recent call last)",
      "Cell \u001b[1;32mIn[5], line 7\u001b[0m\n\u001b[0;32m      3\u001b[0m \u001b[38;5;28mprint\u001b[39m(my_list)  \n\u001b[0;32m      6\u001b[0m my_tuple \u001b[38;5;241m=\u001b[39m (\u001b[38;5;241m1\u001b[39m, \u001b[38;5;241m2\u001b[39m, \u001b[38;5;241m3\u001b[39m)\n\u001b[1;32m----> 7\u001b[0m \u001b[43mmy_tuple\u001b[49m\u001b[43m[\u001b[49m\u001b[38;5;241;43m0\u001b[39;49m\u001b[43m]\u001b[49m \u001b[38;5;241m=\u001b[39m \u001b[38;5;241m4\u001b[39m  \n\u001b[0;32m      8\u001b[0m \u001b[38;5;28mprint\u001b[39m(my_tuple)  \n",
      "\u001b[1;31mTypeError\u001b[0m: 'tuple' object does not support item assignment"
     ]
    }
   ],
   "source": [
    "\n",
    "my_list = [1, 2, 3]\n",
    "my_list[0] = 4  \n",
    "print(my_list)  \n",
    "\n",
    "\n",
    "my_tuple = (1, 2, 3)\n",
    "my_tuple[0] = 4  \n",
    "print(my_tuple)  "
   ]
  },
  {
   "cell_type": "markdown",
   "metadata": {},
   "source": [
    "Q4. Explain what a Set is in Python and provide an example of its usage."
   ]
  },
  {
   "cell_type": "markdown",
   "metadata": {},
   "source": [
    "A set in Python is an unordered collection of unique elements. It is a built-in data type that allows you to store multiple items in a single variable, similar to mathematical sets. Sets are mutable, meaning you can add or remove elements after the set has been created, but they do not allow duplicate entries."
   ]
  },
  {
   "cell_type": "code",
   "execution_count": 7,
   "metadata": {},
   "outputs": [
    {
     "name": "stdout",
     "output_type": "stream",
     "text": [
      "Adding 5: {1, 2, 4, 5}\n"
     ]
    }
   ],
   "source": [
    "numbers = {1, 2, 3, 4}\n",
    "numbers.add(5)\n",
    "numbers.remove(3)\n",
    "print(\"Adding 5:\", numbers) "
   ]
  },
  {
   "cell_type": "markdown",
   "metadata": {},
   "source": [
    "Q5. Describe a Dictionary in Python and give an example of its usage."
   ]
  },
  {
   "cell_type": "markdown",
   "metadata": {},
   "source": [
    "A dictionary in Python is a built-in data structure that stores data in key-value pairs. This allows for efficient data retrieval, as each value can be accessed using its corresponding key. "
   ]
  },
  {
   "cell_type": "code",
   "execution_count": 14,
   "metadata": {},
   "outputs": [
    {
     "name": "stdout",
     "output_type": "stream",
     "text": [
      "Name: STEVE ROGGERS\n",
      "Age: 30\n",
      "city: New York\n",
      "Updated Dictionary: {'name': 'STEVE ROGGERS', 'age': 30, 'city': 'New York', 'job': 'Engineer'}\n",
      "After Deletion: {'name': 'STEVE ROGGERS', 'city': 'New York', 'job': 'Engineer'}\n"
     ]
    }
   ],
   "source": [
    "\n",
    "person = {\n",
    "    \"name\": \"STEVE ROGGERS\",\n",
    "    \"age\": 30,\n",
    "    \"city\": \"New York\"\n",
    "}\n",
    "\n",
    "print(\"Name:\", person[\"name\"])  \n",
    "print(\"Age:\", person[\"age\"])    \n",
    "print(\"city:\", person[\"city\"])\n",
    "\n",
    "\n",
    "# Adding a new key-value pair\n",
    "person[\"job\"] = \"Engineer\"\n",
    "print(\"Updated Dictionary:\", person)\n",
    "\n",
    "# Removing a key-value pair\n",
    "del person[\"age\"]\n",
    "print(\"After Deletion:\", person)  \n"
   ]
  },
  {
   "cell_type": "markdown",
   "metadata": {},
   "source": [
    "Q6. Compare and contrast Lists and Tuples. When would you choose one over the other?"
   ]
  },
  {
   "cell_type": "markdown",
   "metadata": {},
   "source": [
    "Lists are mutable, meaning you can add, remove, or change elements after the list is created. This makes them suitable for situations where the data needs to be updated frequently.\n",
    "\n",
    "Tuples, on the other hand, are immutable. Once a tuple is created, its contents cannot be altered. This immutability makes tuples a good choice for data that should remain constant throughout the program.\n",
    "\n",
    "Lists can be slower than tuples because they require additional memory allocation and deallocation when modified.\n",
    "Tuples are generally faster for accessing elements due to their fixed size and immutability.\n",
    "\n",
    "Choose a List when:\n",
    "You need to store items that may change frequently.\n",
    "You require functionalities like adding or removing elements dynamically.\n",
    "\n",
    "Choose a Tuple when:\n",
    "You want to ensure the integrity of your data by preventing modifications.\n",
    "You need a lightweight structure for fixed collections of items."
   ]
  },
  {
   "cell_type": "markdown",
   "metadata": {},
   "source": [
    "Q7. How does a Set differ from a List and a Dictionary? Provide examples to illustrate these differences."
   ]
  },
  {
   "cell_type": "code",
   "execution_count": 15,
   "metadata": {},
   "outputs": [
    {
     "name": "stdout",
     "output_type": "stream",
     "text": [
      "['apple', 'banana', 'cherry', 'apple']\n"
     ]
    }
   ],
   "source": [
    "#Lists: An ordered collection of items that can hold elements of various data types.\n",
    "fruits = [\"apple\", \"banana\", \"cherry\"]\n",
    "fruits.append(\"apple\") \n",
    "print(fruits)  "
   ]
  },
  {
   "cell_type": "code",
   "execution_count": 19,
   "metadata": {},
   "outputs": [
    {
     "name": "stdout",
     "output_type": "stream",
     "text": [
      "{1, 2, 3, 4, 5}\n"
     ]
    }
   ],
   "source": [
    "#Sets: An unordered collection of unique elements. Sets automatically remove duplicates and do not maintain any particular order.\n",
    "numbers = {1, 2, 3, 4, 4}  \n",
    "numbers.add(5)              \n",
    "print(numbers)               "
   ]
  },
  {
   "cell_type": "code",
   "execution_count": null,
   "metadata": {},
   "outputs": [],
   "source": []
  }
 ],
 "metadata": {
  "kernelspec": {
   "display_name": "Python 3",
   "language": "python",
   "name": "python3"
  },
  "language_info": {
   "codemirror_mode": {
    "name": "ipython",
    "version": 3
   },
   "file_extension": ".py",
   "mimetype": "text/x-python",
   "name": "python",
   "nbconvert_exporter": "python",
   "pygments_lexer": "ipython3",
   "version": "3.12.4"
  }
 },
 "nbformat": 4,
 "nbformat_minor": 2
}
