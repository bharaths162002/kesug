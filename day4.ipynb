{
 "cells": [
  {
   "cell_type": "markdown",
   "metadata": {},
   "source": [
    "Q1. Write a Python code snippet that takes a score (0 to 100) and prints a letter grade based on the following scale:"
   ]
  },
  {
   "cell_type": "code",
   "execution_count": 29,
   "metadata": {},
   "outputs": [
    {
     "name": "stdout",
     "output_type": "stream",
     "text": [
      "You entered a score of 78.64. Your letter grade is: C\n"
     ]
    }
   ],
   "source": [
    "score=float(input(\"enter a number:\"))\n",
    "\n",
    "if score < 0 or score > 100:\n",
    "    print(\"Invalid score. Please enter a score between 0 and 100.\") \n",
    "    \n",
    "if score >= 90:\n",
    "    grade= 'A'\n",
    "elif score >= 80:\n",
    "    grade= 'B'\n",
    "elif score >= 70:\n",
    "    grade='C'\n",
    "elif score >= 60:\n",
    "     grade='D'\n",
    "else:\n",
    "    grade='F'\n",
    "\n",
    "print(f\"You entered a score of {score}. Your letter grade is: {grade}\")\n",
    "\n",
    "\n"
   ]
  },
  {
   "cell_type": "markdown",
   "metadata": {},
   "source": [
    "Q2. Write a Python code snippet that reads an integer from the user and prints whether it is a prime number or not."
   ]
  },
  {
   "cell_type": "code",
   "execution_count": null,
   "metadata": {},
   "outputs": [
    {
     "name": "stdout",
     "output_type": "stream",
     "text": [
      "23 is a prime number\n"
     ]
    }
   ],
   "source": [
    "num = int(input('enter a number'))\n",
    "# Negative numbers, 0 and 1 are not primes\n",
    "if num > 1:\n",
    "  \n",
    "    # Iterate from 2 to n // 2\n",
    "    for i in range(2, (num//2)+1):\n",
    "      \n",
    "        if (num % i) == 0:\n",
    "            print(num, \"is not a prime number\")\n",
    "            break\n",
    "    else:\n",
    "             print(num, \"is a prime number\")\n",
    "else:\n",
    "    print(num, \"is not a prime number\")\n"
   ]
  },
  {
   "cell_type": "markdown",
   "metadata": {},
   "source": [
    "Q3. Write a Python code snippet that takes an integer (1-7) and prints the corresponding day of the week. For example, 1 should print \"Monday\", 2 should print \"Tuesday\", and so on."
   ]
  },
  {
   "cell_type": "code",
   "execution_count": 55,
   "metadata": {},
   "outputs": [
    {
     "name": "stdout",
     "output_type": "stream",
     "text": [
      "Wednesday\n"
     ]
    }
   ],
   "source": [
    "\n",
    "day_number = int(input(\"Enter a number (1-7): \"))\n",
    "\n",
    "if day_number == 1:\n",
    "    print(\"Monday\")\n",
    "elif day_number == 2:\n",
    "    print(\"Tuesday\")\n",
    "elif day_number == 3:\n",
    "    print(\"Wednesday\")\n",
    "elif day_number == 4:\n",
    "    print(\"Thursday\")\n",
    "elif day_number == 5:\n",
    "    print(\"Friday\")\n",
    "elif day_number == 6:\n",
    "    print(\"Saturday\")\n",
    "elif day_number == 7:\n",
    "    print(\"Sunday\")\n",
    "else:\n",
    "    print(\"Invalid input! Please enter a number between 1 and 7.\")\n",
    "\n"
   ]
  },
  {
   "cell_type": "markdown",
   "metadata": {},
   "source": [
    "Q4. Write a Python code snippet that compares two strings and prints which one is lexicographically greater. If they are equal, print \"Equal\"."
   ]
  },
  {
   "cell_type": "code",
   "execution_count": 58,
   "metadata": {},
   "outputs": [
    {
     "name": "stdout",
     "output_type": "stream",
     "text": [
      "\"ENGINEERING\" is lexicographically greater than \"BUSINESSMGT\".\n"
     ]
    }
   ],
   "source": [
    "# Read two strings from the user\n",
    "str1 = input(\"Enter the first string: \")\n",
    "str2 = input(\"Enter the second string: \")\n",
    "\n",
    "# Compare the strings lexicographically\n",
    "if str1 > str2:\n",
    "    print(f'\"{str1}\" is lexicographically greater than \"{str2}\".')\n",
    "elif str1 < str2:\n",
    "    print(f'\"{str2}\" is lexicographically greater than \"{str1}\".')\n",
    "else:\n",
    "    print(\"Equal\")\n"
   ]
  },
  {
   "cell_type": "markdown",
   "metadata": {},
   "source": [
    "Q5. Write a Python code snippet that calculates the discounted price of an item based on whether the customer is a member. Members get a 20% discount, while non-members get a 10% discount. Print the final price."
   ]
  },
  {
   "cell_type": "code",
   "execution_count": 62,
   "metadata": {},
   "outputs": [
    {
     "name": "stdout",
     "output_type": "stream",
     "text": [
      "The final price after discount is: $8000.00\n"
     ]
    }
   ],
   "source": [
    "price = float(input(\"Enter the original price of the item: \"))\n",
    "\n",
    "# Check if the customer is a member\n",
    "is_member = input(\"Is the customer a member? (yes/no): \").lower()\n",
    "\n",
    "# Calculate the discount based on membership status\n",
    "if is_member == \"yes\":\n",
    "    discount = 0.20  # 20% discount for members\n",
    "else:\n",
    "    discount = 0.10  # 10% discount for non-members\n",
    "\n",
    "# Calculate the final price after discount\n",
    "final_price = price*(1 - discount)\n",
    "\n",
    "print(f\"The final price after discount is: ${final_price:.2f}\")\n"
   ]
  },
  {
   "cell_type": "markdown",
   "metadata": {},
   "source": [
    "Q6. Write a Python code snippet that prints numbers from 1 to `n`. For multiples of 3, print \"Fizz\", for multiples of 5, print \"Buzz\", and for multiples of both 3 and 5, print \"FizzBuzz\"."
   ]
  },
  {
   "cell_type": "code",
   "execution_count": 64,
   "metadata": {},
   "outputs": [
    {
     "name": "stdout",
     "output_type": "stream",
     "text": [
      "1\n",
      "2\n",
      "Fizz\n",
      "4\n",
      "Buzz\n",
      "Fizz\n",
      "7\n",
      "8\n",
      "Fizz\n",
      "Buzz\n",
      "11\n",
      "Fizz\n",
      "13\n",
      "14\n",
      "FizzBuzz\n",
      "16\n",
      "17\n",
      "Fizz\n",
      "19\n",
      "Buzz\n"
     ]
    }
   ],
   "source": [
    "# Read the value of n from the user\n",
    "n = int(input(\"Enter the value of n: \"))\n",
    "\n",
    "# Loop through numbers from 1 to n\n",
    "for i in range(1, n + 1):\n",
    "    if i % 3 == 0 and i % 5 == 0:\n",
    "        print(\"FizzBuzz\")\n",
    "    elif i % 3 == 0:\n",
    "        print(\"Fizz\")\n",
    "    elif i % 5 == 0:\n",
    "        print(\"Buzz\")\n",
    "    else:\n",
    "        print(i)\n"
   ]
  },
  {
   "cell_type": "markdown",
   "metadata": {},
   "source": [
    "Q7. Write a Python code snippet that takes a temperature in Celsius and converts it to Fahrenheit. Print \"Hot\" if the temperature is above 100°F, \"Warm\" if it is between 32°F and 100°F, and \"Cold\" if it is below 32°F."
   ]
  },
  {
   "cell_type": "code",
   "execution_count": 67,
   "metadata": {},
   "outputs": [
    {
     "name": "stdout",
     "output_type": "stream",
     "text": [
      "The temperature is -58.00°F. It's Cold.\n"
     ]
    }
   ],
   "source": [
    "# Read the temperature in Celsius from the user\n",
    "celsius = float(input(\"Enter temperature in Celsius: \"))\n",
    "\n",
    "# Convert Celsius to Fahrenheit\n",
    "fahrenheit = (celsius * 9/5) + 32\n",
    "\n",
    "# Determine if the temperature is Hot, Warm, or Cold\n",
    "if fahrenheit > 100:\n",
    "    print(f\"The temperature is {fahrenheit:.2f}°F. It's Hot.\")\n",
    "elif 32 <= fahrenheit <= 100:\n",
    "    print(f\"The temperature is {fahrenheit:.2f}°F. It's Warm.\")\n",
    "else:\n",
    "    print(f\"The temperature is {fahrenheit:.2f}°F. It's Cold.\")\n"
   ]
  },
  {
   "cell_type": "markdown",
   "metadata": {},
   "source": [
    "Q8. Write a Python code snippet that determines the maximum of three numbers using nested conditional statements. Print the maximum value."
   ]
  },
  {
   "cell_type": "code",
   "execution_count": 68,
   "metadata": {},
   "outputs": [
    {
     "name": "stdout",
     "output_type": "stream",
     "text": [
      "The maximum number is: 50000.0\n"
     ]
    }
   ],
   "source": [
    "num1 = float(input(\"Enter the first number: \"))\n",
    "num2 = float(input(\"Enter the second number: \"))\n",
    "num3 = float(input(\"Enter the third number: \"))\n",
    "\n",
    "# Determine the maximum number using nested conditionals\n",
    "if num1 >= num2:\n",
    "    if num1 >= num3:\n",
    "        max_num = num1\n",
    "    else:\n",
    "        max_num = num3\n",
    "else:\n",
    "    if num2 >= num3:\n",
    "        max_num = num2\n",
    "    else:\n",
    "        max_num = num3\n",
    "\n",
    "# Print the maximum number\n",
    "print(f\"The maximum number is: {max_num}\")\n"
   ]
  },
  {
   "cell_type": "markdown",
   "metadata": {},
   "source": [
    "Q9. Write a Python code snippet that calculates the final price of an item after applying different discounts based on the quantity purchased. Apply a 5% discount for quantities between 1 and 10, a 10% discount for quantities between 11 and 50, and a 15% discount for quantities above 50. Print the final price."
   ]
  },
  {
   "cell_type": "code",
   "execution_count": 70,
   "metadata": {},
   "outputs": [
    {
     "name": "stdout",
     "output_type": "stream",
     "text": [
      "The final price after discount is: RS:51000.00\n"
     ]
    }
   ],
   "source": [
    "# Read the original price of the item and the quantity from the user\n",
    "price_per_item = float(input(\"Enter the price per item: \"))\n",
    "quantity = int(input(\"Enter the quantity purchased: \"))\n",
    "\n",
    "# Determine the discount based on the quantity\n",
    "if 1 <= quantity <= 10:\n",
    "    discount = 0.05  # 5% discount\n",
    "elif 11 <= quantity <= 50:\n",
    "    discount = 0.10  # 10% discount\n",
    "elif quantity > 50:\n",
    "    discount = 0.15  # 15% discount\n",
    "else:\n",
    "    discount = 0.0  # No discount for quantities less than 1\n",
    "\n",
    "# Calculate the total original price\n",
    "total_price = price_per_item * quantity\n",
    "\n",
    "# Calculate the final price after applying the discount\n",
    "final_price = total_price * (1 - discount)\n",
    "\n",
    "print(f\"The final price after discount is: RS:{final_price:.2f}\")\n"
   ]
  },
  {
   "cell_type": "code",
   "execution_count": null,
   "metadata": {},
   "outputs": [],
   "source": []
  }
 ],
 "metadata": {
  "kernelspec": {
   "display_name": "Python 3",
   "language": "python",
   "name": "python3"
  },
  "language_info": {
   "codemirror_mode": {
    "name": "ipython",
    "version": 3
   },
   "file_extension": ".py",
   "mimetype": "text/x-python",
   "name": "python",
   "nbconvert_exporter": "python",
   "pygments_lexer": "ipython3",
   "version": "3.12.4"
  }
 },
 "nbformat": 4,
 "nbformat_minor": 2
}
