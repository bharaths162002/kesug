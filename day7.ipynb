{
 "cells": [
  {
   "cell_type": "markdown",
   "metadata": {},
   "source": [
    "Q1: What is a class in Python? Provide a simple example."
   ]
  },
  {
   "cell_type": "markdown",
   "metadata": {},
   "source": [
    "A class in Python is a user-defined blueprint or prototype from which objects are created. It encapsulates data (attributes) and functions (methods) that operate on that data, allowing for the modeling of real-world entities in a structured way."
   ]
  },
  {
   "cell_type": "code",
   "execution_count": 4,
   "metadata": {},
   "outputs": [
    {
     "name": "stdout",
     "output_type": "stream",
     "text": [
      "white\n",
      "felix\n"
     ]
    }
   ],
   "source": [
    "class Cat:\n",
    "    def __init__(self,color,name):\n",
    "        self.color=color\n",
    "        self.name=name\n",
    "cat_obj=Cat('white','felix')\n",
    "print(cat_obj.color)\n",
    "print(cat_obj.name)"
   ]
  },
  {
   "cell_type": "markdown",
   "metadata": {},
   "source": [
    "Q2: How do you create an object of a class in Python? Illustrate with an example."
   ]
  },
  {
   "cell_type": "code",
   "execution_count": 6,
   "metadata": {},
   "outputs": [
    {
     "name": "stdout",
     "output_type": "stream",
     "text": [
      "max\n",
      "brown\n"
     ]
    }
   ],
   "source": [
    "class Dog:\n",
    "    def __init__(self,name,color):\n",
    "        self.name=name\n",
    "        self.color=color\n",
    "    \n",
    "    def bark():\n",
    "        print(\"woof!!\")\n",
    "\n",
    "#creating an object\n",
    "dog_obj=Dog('max','brown')\n",
    "print(dog_obj.name)\n",
    "print(dog_obj.color)"
   ]
  },
  {
   "cell_type": "markdown",
   "metadata": {},
   "source": [
    "Q3: What is the `__init__` method in a class? Explain with an example."
   ]
  },
  {
   "cell_type": "markdown",
   "metadata": {},
   "source": [
    "The __init__ method in Python is a special method known as the constructor. It is automatically called when a new instance of a class is created. The primary purpose of the __init__ method is to initialize the attributes of the newly created object, allowing you to set initial values for the object's properties.\n"
   ]
  },
  {
   "cell_type": "code",
   "execution_count": 8,
   "metadata": {},
   "outputs": [
    {
     "name": "stdout",
     "output_type": "stream",
     "text": [
      "alex\n",
      "1hv2025007\n",
      "AIML\n"
     ]
    }
   ],
   "source": [
    "class Student:\n",
    "    def __init__(self,name,usn,dept):\n",
    "        self.name=name\n",
    "        self.usn=usn\n",
    "        self.dept=dept\n",
    "    \n",
    "    def university(self):\n",
    "        print('HARVARD UNIVERSITY')\n",
    "\n",
    "stud=Student('alex','1hv2025007','AIML')\n",
    "print(stud.name)\n",
    "print(stud.usn)\n",
    "print(stud.dept)\n",
    "        "
   ]
  },
  {
   "cell_type": "markdown",
   "metadata": {},
   "source": [
    "Q4: How can you create a class variable in Python? Provide an example."
   ]
  },
  {
   "cell_type": "markdown",
   "metadata": {},
   "source": [
    "To create a class variable in Python, you define the variable within the class definition but outside any methods. Class variables are shared across all instances of the class, meaning that if you change the value of a class variable, it affects all instances."
   ]
  },
  {
   "cell_type": "code",
   "execution_count": 3,
   "metadata": {},
   "outputs": [
    {
     "name": "stdout",
     "output_type": "stream",
     "text": [
      "Name: cassie, Roll No: 10, School: HARVARD School\n",
      "Name: matt, Roll No: 20, School: HARVARD School\n",
      "Name: cassie, Roll No: 10, School: STANFORD School\n",
      "Name: matt, Roll No: 20, School: STANFORD School\n"
     ]
    }
   ],
   "source": [
    "class Student:\n",
    "    # Class variable\n",
    "    school_name = 'HARVARD School'\n",
    "\n",
    "    def __init__(self, name, roll_no):\n",
    "        # Instance variables\n",
    "        self.name = name\n",
    "        self.roll_no = roll_no\n",
    "\n",
    "    def show(self):\n",
    "        # Accessing class variable using self and class name\n",
    "        print(f'Name: {self.name}, Roll No: {self.roll_no}, School: {Student.school_name}')\n",
    "\n",
    "\n",
    "# Creating instances of the Student class\n",
    "s1 = Student('cassie', 10)\n",
    "s2 = Student('matt', 20)\n",
    "\n",
    "# Displaying information for each student\n",
    "s1.show()  \n",
    "s2.show()  \n",
    "\n",
    "# Modifying the class variable\n",
    "Student.school_name = 'STANFORD School'\n",
    "\n",
    "# Displaying updated information for each student\n",
    "s1.show()  \n",
    "s2.show()  "
   ]
  },
  {
   "cell_type": "markdown",
   "metadata": {},
   "source": [
    "Class Variable: school_name is defined at the class level and is accessible by all instances.\n",
    "Instance Variables: name and roll_no are specific to each instance.\n",
    "Accessing Class Variables: You can access class variables using either self or the class name (Student.school_name).\n",
    "Modifying Class Variables: Changing the value of school_name through the class name affects all instances."
   ]
  },
  {
   "cell_type": "markdown",
   "metadata": {},
   "source": [
    "Q5: What is the purpose of the `self` parameter in class methods?"
   ]
  },
  {
   "cell_type": "markdown",
   "metadata": {},
   "source": [
    "The self parameter in Python class methods serves a crucial role in object-oriented programming. It represents the instance of the class and allows access to the instance's attributes and methods.\n",
    "Accessing Attributes:\n",
    "When you define instance variables within methods (like in the constructor), you use self to bind those variables to the instance. For example, in a class constructor, self.name = name assigns the value of name to the instance variable name, allowing it to be accessed later through self"
   ]
  },
  {
   "cell_type": "markdown",
   "metadata": {},
   "source": [
    "Q6: How do you create a class method in Python? Provide an example"
   ]
  },
  {
   "cell_type": "markdown",
   "metadata": {},
   "source": [
    "Methods are functions defined within the class. They take parameters and can operate on object attributes"
   ]
  },
  {
   "cell_type": "code",
   "execution_count": 6,
   "metadata": {},
   "outputs": [
    {
     "name": "stdout",
     "output_type": "stream",
     "text": [
      "this is my kingdom\n"
     ]
    }
   ],
   "source": [
    "class King:\n",
    "    pass\n",
    "    \n",
    "    def rule(self):\n",
    "        print('this is my kingdom')\n",
    "\n",
    "king_obj=King()\n",
    "king_obj.rule()\n"
   ]
  },
  {
   "cell_type": "code",
   "execution_count": null,
   "metadata": {},
   "outputs": [],
   "source": []
  }
 ],
 "metadata": {
  "kernelspec": {
   "display_name": "Python 3",
   "language": "python",
   "name": "python3"
  },
  "language_info": {
   "codemirror_mode": {
    "name": "ipython",
    "version": 3
   },
   "file_extension": ".py",
   "mimetype": "text/x-python",
   "name": "python",
   "nbconvert_exporter": "python",
   "pygments_lexer": "ipython3",
   "version": "3.12.4"
  }
 },
 "nbformat": 4,
 "nbformat_minor": 2
}
