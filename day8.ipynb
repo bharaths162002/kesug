{
 "cells": [
  {
   "cell_type": "markdown",
   "metadata": {},
   "source": [
    "### ENCAPSULATION"
   ]
  },
  {
   "cell_type": "markdown",
   "metadata": {},
   "source": [
    "Q1: What is encapsulation in Python? "
   ]
  },
  {
   "cell_type": "markdown",
   "metadata": {},
   "source": [
    " Encapsulation is a fundamental concept in object-oriented programming (OOP) that involves bundling data and methods into a class.\n",
    " Protect data: Encapsulation prevents unauthorized access to data, and accidental changes or deletions \n",
    " Improve code quality: Encapsulation makes code more readable and maintainable, and promotes code reusability \n",
    " Enhance security: Encapsulation keeps code and logic safe from external inheritance "
   ]
  },
  {
   "cell_type": "markdown",
   "metadata": {},
   "source": [
    "Q2: How do you achieve encapsulation in Python? "
   ]
  },
  {
   "cell_type": "markdown",
   "metadata": {},
   "source": [
    "Encapsulation in Python is achieved through the use of access modifiers, which control the visibility and accessibility of class members."
   ]
  },
  {
   "cell_type": "code",
   "execution_count": 4,
   "metadata": {},
   "outputs": [
    {
     "name": "stdout",
     "output_type": "stream",
     "text": [
      "volvo\n"
     ]
    },
    {
     "data": {
      "text/plain": [
       "'This is a public method.'"
      ]
     },
     "execution_count": 4,
     "metadata": {},
     "output_type": "execute_result"
    }
   ],
   "source": [
    "#Public members can be accessed freely from outside the class.\n",
    "class PublicExample:\n",
    "    def __init__(self):\n",
    "        self.name ='volvo'\n",
    "\n",
    "    def public_method(self):\n",
    "        return \"This is a public method.\"\n",
    "\n",
    "# Usage\n",
    "obj = PublicExample()\n",
    "print(obj.name)  \n",
    "obj.public_method() "
   ]
  },
  {
   "cell_type": "code",
   "execution_count": 18,
   "metadata": {},
   "outputs": [
    {
     "name": "stdout",
     "output_type": "stream",
     "text": [
      "BMW\n",
      "This is a protected method.\n"
     ]
    }
   ],
   "source": [
    "#Protected members are accessible within the class and its subclasses.\n",
    "class ProtectedExample:\n",
    "    def __init__(self):\n",
    "        self._car ='BMW'\n",
    "\n",
    "    def _protected_method(self):\n",
    "        return \"This is a protected method.\"\n",
    "\n",
    "# Usage\n",
    "obj = ProtectedExample()\n",
    "print(obj._car) \n",
    "print(obj._protected_method()) "
   ]
  },
  {
   "cell_type": "code",
   "execution_count": 3,
   "metadata": {},
   "outputs": [
    {
     "name": "stdout",
     "output_type": "stream",
     "text": [
      "GOOGLE\n"
     ]
    }
   ],
   "source": [
    "class Company():\n",
    "    def __init__(self):\n",
    "        self.__companyName=\"GOOGLE\" #private variable\n",
    "         \n",
    "    def GetCompanyName(self):\n",
    "        print(self.__companyName)\n",
    "c1=Company()\n",
    "c1.GetCompanyName()\n"
   ]
  },
  {
   "cell_type": "markdown",
   "metadata": {},
   "source": [
    "Q3: What is a private attribute in a class? "
   ]
  },
  {
   "cell_type": "markdown",
   "metadata": {},
   "source": [
    "Certain attributes can be declared as private, making it impossible for users of a different class to directly view or modify their values.\n",
    "The main point of making an attribute private is to  prevent the accidental overriding of that attribute by the subclass. "
   ]
  },
  {
   "cell_type": "markdown",
   "metadata": {},
   "source": [
    "Q4: Can private attributes be accessed outside the class? "
   ]
  },
  {
   "cell_type": "markdown",
   "metadata": {},
   "source": [
    "NO. It is marked as private by prefixing its name with 2 underscores __. This means it is intended to be accesssed only within the class itself."
   ]
  },
  {
   "cell_type": "markdown",
   "metadata": {},
   "source": [
    "Q5: What is a getter and setter?"
   ]
  },
  {
   "cell_type": "markdown",
   "metadata": {},
   "source": [
    "In Python getter and setter are methods used to access and modify the attributes of a class while maintaining encapsulation.\n",
    "GETTER: These methods allow you to retrieve the value of an object's attribute, they provide a controlled way to access private attributes.\n",
    "\n",
    "SETTER: These methods enable you to set or update the value of an object's attribute. They can include validation logic to ensure that the new value adheres to certain criteria."
   ]
  },
  {
   "cell_type": "code",
   "execution_count": 6,
   "metadata": {},
   "outputs": [
    {
     "name": "stdout",
     "output_type": "stream",
     "text": [
      "setter method called \n",
      "getter method called\n",
      "25\n"
     ]
    }
   ],
   "source": [
    "class Person:\n",
    "    def __init__(self):\n",
    "        self._age=0\n",
    "\n",
    "    def get_age(self):\n",
    "        print(\"getter method called\")\n",
    "        return self._age\n",
    "    \n",
    "    def set_age(self,a):\n",
    "        print(\"setter method called \")\n",
    "        self._age=a\n",
    "\n",
    "    def del_age(self):\n",
    "        del self._age\n",
    "    \n",
    "    age=property(get_age,set_age,del_age)\n",
    "\n",
    "tom=Person()\n",
    "tom.age=25\n",
    "print(tom.age)\n",
    "\n",
    "\n",
    "    \n"
   ]
  },
  {
   "cell_type": "markdown",
   "metadata": {},
   "source": [
    "### ABSTRACTION"
   ]
  },
  {
   "cell_type": "markdown",
   "metadata": {},
   "source": [
    "Q6: What is abstraction in Python?"
   ]
  },
  {
   "cell_type": "markdown",
   "metadata": {},
   "source": [
    "Abstraction in python is defined as a process of handling complexity by hiding unnecessary information from the user. It is a technique that uses abstract classes and methods to create a blueprint for other classes to inherit from."
   ]
  },
  {
   "cell_type": "markdown",
   "metadata": {},
   "source": [
    "Q7: How do you implement abstraction in Python? "
   ]
  },
  {
   "cell_type": "code",
   "execution_count": 10,
   "metadata": {},
   "outputs": [
    {
     "name": "stdout",
     "output_type": "stream",
     "text": [
      "Area of Square 225\n",
      "Area of Circle: 153.86\n"
     ]
    }
   ],
   "source": [
    "from abc import ABC\n",
    "\n",
    "class Shape(ABC):\n",
    "    pass\n",
    "\n",
    "class Square(Shape):\n",
    "    length=15\n",
    "    def area(self):\n",
    "        return self.length*self.length\n",
    "    \n",
    "class Circle(Shape):\n",
    "    radius=7\n",
    "    def area(self):\n",
    "        return 3.14*self.radius*self.radius\n",
    "    \n",
    "sq=Square()\n",
    "cir=Circle()\n",
    "\n",
    "print(\"Area of Square\",sq.area())\n",
    "print(\"Area of Circle:\",cir.area())"
   ]
  },
  {
   "cell_type": "markdown",
   "metadata": {},
   "source": [
    "Q8: What is an abstract class? "
   ]
  },
  {
   "cell_type": "markdown",
   "metadata": {},
   "source": [
    "An abstract class can be considered a blueprint for other classes. It allows you to create a set of methods that must be created within any child classes built from the abstract class. A class that contains 1 or more abstract methods is called an abstract class."
   ]
  },
  {
   "cell_type": "markdown",
   "metadata": {},
   "source": [
    "Q9: Can a class have both abstract and concrete methods? "
   ]
  },
  {
   "cell_type": "markdown",
   "metadata": {},
   "source": [
    "Abstract class can have both an abstract as well as concrete methods. A concrete class can only have concrete methods. Even a single abstract method makes the class abstract."
   ]
  },
  {
   "cell_type": "markdown",
   "metadata": {},
   "source": [
    "Q10: What is an interface in Python?"
   ]
  },
  {
   "cell_type": "markdown",
   "metadata": {},
   "source": [
    "In python an interface is a blueprint for designing classes that defines a contract between a class and its users. Interfaces are created using abstract base classes ABC . ABC are defined in ABC module and can include abstract methods."
   ]
  },
  {
   "cell_type": "markdown",
   "metadata": {},
   "source": [
    "### POLYMORPHISM"
   ]
  },
  {
   "cell_type": "markdown",
   "metadata": {},
   "source": [
    "Q11: What is polymorphism in Python"
   ]
  },
  {
   "cell_type": "markdown",
   "metadata": {},
   "source": [
    "The word polymorphism means having many forms. Polymorphism means the same function name (but differnt signatures) being used for different types. The key difference is datatypes and number of arguments used in function."
   ]
  },
  {
   "cell_type": "markdown",
   "metadata": {},
   "source": [
    "Q12: How does method overriding demonstrate polymorphism? "
   ]
  },
  {
   "cell_type": "markdown",
   "metadata": {},
   "source": [
    "The child classes in Python also inherit methods and attributes from the parent class. We can redefine certain methods and attributes specifically to fit the child class, which is known as Method Overriding."
   ]
  },
  {
   "cell_type": "markdown",
   "metadata": {},
   "source": [
    "Q13: Can you give an example of operator overloading? "
   ]
  },
  {
   "cell_type": "code",
   "execution_count": 10,
   "metadata": {},
   "outputs": [
    {
     "name": "stdout",
     "output_type": "stream",
     "text": [
      "560\n",
      "False\n"
     ]
    }
   ],
   "source": [
    "class Shape:\n",
    "    def __init__(self, w, h):  # Corrected to __init__\n",
    "        self.width = w\n",
    "        self.height = h\n",
    "\n",
    "    def area(self):\n",
    "        return self.width * self.height\n",
    "\n",
    "    def __add__(self, other):  # Special method for addition\n",
    "        return Shape(self.width + other.width, self.height + other.height)\n",
    "\n",
    "    def __gt__(self, other):  # Special method for greater than\n",
    "        return self.area() > other.area()\n",
    "\n",
    "w1 = 6\n",
    "w2 = 8\n",
    "h1 = 15\n",
    "h2 = 25\n",
    "\n",
    "s1 = Shape(w1, h1)\n",
    "s2 = Shape(w2, h2)\n",
    "result = s1 + s2  # This now uses the __add__ method\n",
    "\n",
    "print(result.area())  # Prints area of the resulting shape\n",
    "print(s1 > s2)        # This now uses the __gt__ method\n"
   ]
  },
  {
   "cell_type": "markdown",
   "metadata": {},
   "source": [
    "Q14: What is duck typing in Python? "
   ]
  },
  {
   "cell_type": "markdown",
   "metadata": {},
   "source": [
    "Duck typing in python is a programming concept that focuses on an object's behaviour rather than its type or class. It is a term used to describe the polymorphic behaviour of objects in dynamically typed programming languages."
   ]
  },
  {
   "cell_type": "markdown",
   "metadata": {},
   "source": [
    "Q15: What is the difference between compile-time and runtime polymorphism?"
   ]
  },
  {
   "cell_type": "markdown",
   "metadata": {},
   "source": [
    "Compile-time polymorphism - The compiler determines the method call, and the method is executed during compilation. This is also known as eaarly binding, overloading and static binding.\n",
    "\n",
    "Run-time polymorphism - The method call is determined during program execution, and the method is executed during runtime. This is also known as late binding, dynamic binding, and overriding. "
   ]
  },
  {
   "cell_type": "markdown",
   "metadata": {},
   "source": [
    "### INHERITANCE"
   ]
  },
  {
   "cell_type": "markdown",
   "metadata": {},
   "source": [
    "Q16: What is inheritance in Python? "
   ]
  },
  {
   "cell_type": "markdown",
   "metadata": {},
   "source": [
    "Inheritance allows us to define a class that inherits all the methods and properties from another class.\n",
    "\n",
    "Parent class- it is the class being inherited from, also called base class.\n",
    "\n",
    "Child class- it is the class that inherits from another class , also called derived class."
   ]
  },
  {
   "cell_type": "markdown",
   "metadata": {},
   "source": [
    "Q17: What is a base class? "
   ]
  },
  {
   "cell_type": "markdown",
   "metadata": {},
   "source": [
    "It is the class being inherited from also called as parent class."
   ]
  },
  {
   "cell_type": "markdown",
   "metadata": {},
   "source": [
    "Q18: What is a derived class? "
   ]
  },
  {
   "cell_type": "markdown",
   "metadata": {},
   "source": [
    "It is the class that inherits from another class , also called child class."
   ]
  },
  {
   "cell_type": "markdown",
   "metadata": {},
   "source": [
    "Q19: What is multiple inheritance? "
   ]
  },
  {
   "cell_type": "markdown",
   "metadata": {},
   "source": [
    "A class can be derived from more than one super class in Python."
   ]
  },
  {
   "cell_type": "markdown",
   "metadata": {},
   "source": [
    "Q20: What is the `super()` function used for?"
   ]
  },
  {
   "cell_type": "markdown",
   "metadata": {},
   "source": [
    "super() function is used to give access to the methods of a parent class. Returns a temporary objecct of parent class when use."
   ]
  },
  {
   "cell_type": "markdown",
   "metadata": {},
   "source": [
    "Q21: What is the Dundur Method in Python OOP? "
   ]
  },
  {
   "cell_type": "markdown",
   "metadata": {},
   "source": [
    "Also known as magic methods, predefined methods in python that have double underscores at beginning and end of their names. These methods provide a way to define specific behaviours for builtin operations or functionalities i python class."
   ]
  },
  {
   "cell_type": "markdown",
   "metadata": {},
   "source": [
    "### General OOP Questions"
   ]
  },
  {
   "cell_type": "markdown",
   "metadata": {},
   "source": [
    "Q22: What are the four main principles of OOP?"
   ]
  },
  {
   "cell_type": "markdown",
   "metadata": {},
   "source": [
    "1. Encapsulation\n",
    "\n",
    "2. Inheritance\n",
    "\n",
    "3. Polymorphism\n",
    "\n",
    "4. Abstraction"
   ]
  },
  {
   "cell_type": "markdown",
   "metadata": {},
   "source": [
    "Q23: What is the difference between a class and an object? "
   ]
  },
  {
   "cell_type": "markdown",
   "metadata": {},
   "source": [
    "Class are used to define the structure and behaviour of objects, Its like blueprint of objects.\n",
    "\n",
    "Objects are real world entity, they are used to represent specific entities in a program."
   ]
  },
  {
   "cell_type": "markdown",
   "metadata": {},
   "source": [
    "Q24: What is a class constructor in Python?"
   ]
  },
  {
   "cell_type": "markdown",
   "metadata": {},
   "source": [
    "Constructor are generally used for instantiating an object. The main purpose of constructor is to initialize to the data members of the class when an object of the class is created. __init__() is constructor is called when obj is created."
   ]
  },
  {
   "cell_type": "markdown",
   "metadata": {},
   "source": [
    "Q25: Can you override the constructor in a derived class? "
   ]
  },
  {
   "cell_type": "markdown",
   "metadata": {},
   "source": [
    "No, you cannot override a constructor in a derived class. When a derived object is created, the constructors from both the base and derived classes will run, with the base class constructor running 1St"
   ]
  },
  {
   "cell_type": "markdown",
   "metadata": {},
   "source": [
    "Q26: What is the difference between instance variables and class variables? "
   ]
  },
  {
   "cell_type": "markdown",
   "metadata": {},
   "source": [
    "class vaariables are shared across all instances of a class.\n",
    "\n",
    "Instance variables are created when an object is instantiated, and each object has its own unique instance variables."
   ]
  },
  {
   "cell_type": "markdown",
   "metadata": {},
   "source": [
    "Q27: How do you define a class method in Python?"
   ]
  },
  {
   "cell_type": "code",
   "execution_count": 1,
   "metadata": {},
   "outputs": [
    {
     "name": "stdout",
     "output_type": "stream",
     "text": [
      "oneplus\n"
     ]
    }
   ],
   "source": [
    "class Mobile:\n",
    "    manufacturer='oneplus'\n",
    "\n",
    "    @classmethod\n",
    "    def get_name(cls):\n",
    "        return cls.manufacturer\n",
    "    \n",
    "print(Mobile.get_name())"
   ]
  },
  {
   "cell_type": "markdown",
   "metadata": {},
   "source": [
    "Q28: What is a static method?"
   ]
  },
  {
   "cell_type": "markdown",
   "metadata": {},
   "source": [
    "A static method belongs to a class but not its instances. Static methods are declared using the @staticmethod decoraator  "
   ]
  },
  {
   "cell_type": "markdown",
   "metadata": {},
   "source": [
    "Q29: What is method overriding?"
   ]
  },
  {
   "cell_type": "markdown",
   "metadata": {},
   "source": [
    "Its a feature in python that allows a subclass to provide a specific implementation of a method that is already defined in its superclass."
   ]
  },
  {
   "cell_type": "markdown",
   "metadata": {},
   "source": [
    "Q30: Can you have an abstract method without an abstract class?"
   ]
  },
  {
   "cell_type": "markdown",
   "metadata": {},
   "source": [
    "No, if you declared abstract method in class then you have to declare the current class as an abstract class"
   ]
  },
  {
   "cell_type": "markdown",
   "metadata": {},
   "source": [
    "Q31: How do you implement a private method in a class?"
   ]
  },
  {
   "cell_type": "code",
   "execution_count": null,
   "metadata": {},
   "outputs": [
    {
     "name": "stdout",
     "output_type": "stream",
     "text": [
      "ZOHO\n"
     ]
    }
   ],
   "source": [
    "class Company():\n",
    "    def __init__(self) -> None:\n",
    "        self.__companyName='ZOHO' # Private variable\n",
    "\n",
    "    def getCompanyName(self):\n",
    "        print(self.__companyName)\n",
    "\n",
    "c1=Company()\n",
    "c1.getCompanyName()"
   ]
  },
  {
   "cell_type": "markdown",
   "metadata": {},
   "source": [
    "Q32: What is a property in Python? "
   ]
  },
  {
   "cell_type": "markdown",
   "metadata": {},
   "source": [
    "property() function returns the object of the property class and it is used to create the property of a class."
   ]
  },
  {
   "cell_type": "markdown",
   "metadata": {},
   "source": [
    "\n",
    "Q33: How can you prevent a class from being inherited? "
   ]
  },
  {
   "cell_type": "markdown",
   "metadata": {},
   "source": [
    "we can use final decorator from the module to indicate that a class should not be subclassed."
   ]
  },
  {
   "cell_type": "markdown",
   "metadata": {},
   "source": [
    "Q34: How does Python support dynamic typing in OOP?"
   ]
  },
  {
   "cell_type": "markdown",
   "metadata": {},
   "source": [
    "It supports dynamic typing in OOPs by inferring the type of a variable at run time, based on value assigned to it."
   ]
  },
  {
   "cell_type": "markdown",
   "metadata": {},
   "source": []
  }
 ],
 "metadata": {
  "kernelspec": {
   "display_name": "Python 3",
   "language": "python",
   "name": "python3"
  },
  "language_info": {
   "codemirror_mode": {
    "name": "ipython",
    "version": 3
   },
   "file_extension": ".py",
   "mimetype": "text/x-python",
   "name": "python",
   "nbconvert_exporter": "python",
   "pygments_lexer": "ipython3",
   "version": "3.12.4"
  }
 },
 "nbformat": 4,
 "nbformat_minor": 2
}
